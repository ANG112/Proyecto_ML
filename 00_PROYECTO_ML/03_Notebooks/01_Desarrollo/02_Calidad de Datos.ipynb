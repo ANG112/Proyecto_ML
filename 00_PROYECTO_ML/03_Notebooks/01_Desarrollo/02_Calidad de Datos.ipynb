{
 "cells": [
  {
   "cell_type": "markdown",
   "id": "d31dea65",
   "metadata": {},
   "source": [
    "# CALIDAD DE DATOS"
   ]
  },
  {
   "cell_type": "markdown",
   "id": "swiss-fault",
   "metadata": {},
   "source": [
    "## IMPORTAR PAQUETES"
   ]
  },
  {
   "cell_type": "code",
   "execution_count": 2,
   "id": "adjacent-toddler",
   "metadata": {},
   "outputs": [],
   "source": [
    "import numpy as np\n",
    "import pandas as pd\n",
    "from janitor import clean_names"
   ]
  },
  {
   "cell_type": "markdown",
   "id": "graduate-compensation",
   "metadata": {},
   "source": [
    "## IMPORTAR LOS DATOS"
   ]
  },
  {
   "cell_type": "markdown",
   "id": "38bb812b",
   "metadata": {},
   "source": [
    "Ruta del proyecto."
   ]
  },
  {
   "cell_type": "code",
   "execution_count": 3,
   "id": "28c63848",
   "metadata": {},
   "outputs": [],
   "source": [
    "ruta_proyecto = 'C:/Users/Alfonso/OneDrive/Documentos_/Formación/Bootcamp_DS/Repo_DS/Proyect_Break_ML/00_PROYECTO_ML'"
   ]
  },
  {
   "cell_type": "markdown",
   "id": "ba473b09",
   "metadata": {},
   "source": [
    "Nombre_fichero_datos."
   ]
  },
  {
   "cell_type": "code",
   "execution_count": 4,
   "id": "5d9dc5ea",
   "metadata": {},
   "outputs": [],
   "source": [
    "nombre_fichero_datos = 'trabajo.csv'"
   ]
  },
  {
   "cell_type": "markdown",
   "id": "ae75bf0b",
   "metadata": {},
   "source": [
    "Cargar los datos."
   ]
  },
  {
   "cell_type": "code",
   "execution_count": 5,
   "id": "24ff453b",
   "metadata": {},
   "outputs": [
    {
     "data": {
      "text/html": [
       "<div>\n",
       "<style scoped>\n",
       "    .dataframe tbody tr th:only-of-type {\n",
       "        vertical-align: middle;\n",
       "    }\n",
       "\n",
       "    .dataframe tbody tr th {\n",
       "        vertical-align: top;\n",
       "    }\n",
       "\n",
       "    .dataframe thead th {\n",
       "        text-align: right;\n",
       "    }\n",
       "</style>\n",
       "<table border=\"1\" class=\"dataframe\">\n",
       "  <thead>\n",
       "    <tr style=\"text-align: right;\">\n",
       "      <th></th>\n",
       "      <th>Year_Birth</th>\n",
       "      <th>Education</th>\n",
       "      <th>Marital_Status</th>\n",
       "      <th>Income</th>\n",
       "      <th>Kidhome</th>\n",
       "      <th>Teenhome</th>\n",
       "      <th>Dt_Customer</th>\n",
       "      <th>Recency</th>\n",
       "      <th>MntWines</th>\n",
       "      <th>MntFruits</th>\n",
       "      <th>...</th>\n",
       "      <th>NumWebVisitsMonth</th>\n",
       "      <th>AcceptedCmp3</th>\n",
       "      <th>AcceptedCmp4</th>\n",
       "      <th>AcceptedCmp5</th>\n",
       "      <th>AcceptedCmp1</th>\n",
       "      <th>AcceptedCmp2</th>\n",
       "      <th>Complain</th>\n",
       "      <th>Z_CostContact</th>\n",
       "      <th>Z_Revenue</th>\n",
       "      <th>Response</th>\n",
       "    </tr>\n",
       "    <tr>\n",
       "      <th>ID</th>\n",
       "      <th></th>\n",
       "      <th></th>\n",
       "      <th></th>\n",
       "      <th></th>\n",
       "      <th></th>\n",
       "      <th></th>\n",
       "      <th></th>\n",
       "      <th></th>\n",
       "      <th></th>\n",
       "      <th></th>\n",
       "      <th></th>\n",
       "      <th></th>\n",
       "      <th></th>\n",
       "      <th></th>\n",
       "      <th></th>\n",
       "      <th></th>\n",
       "      <th></th>\n",
       "      <th></th>\n",
       "      <th></th>\n",
       "      <th></th>\n",
       "      <th></th>\n",
       "    </tr>\n",
       "  </thead>\n",
       "  <tbody>\n",
       "    <tr>\n",
       "      <th>1640</th>\n",
       "      <td>1954</td>\n",
       "      <td>Graduation</td>\n",
       "      <td>Divorced</td>\n",
       "      <td>64587.0</td>\n",
       "      <td>1</td>\n",
       "      <td>1</td>\n",
       "      <td>2014-06-22</td>\n",
       "      <td>49</td>\n",
       "      <td>66</td>\n",
       "      <td>0</td>\n",
       "      <td>...</td>\n",
       "      <td>3</td>\n",
       "      <td>0</td>\n",
       "      <td>0</td>\n",
       "      <td>0</td>\n",
       "      <td>0</td>\n",
       "      <td>0</td>\n",
       "      <td>0</td>\n",
       "      <td>3</td>\n",
       "      <td>11</td>\n",
       "      <td>0</td>\n",
       "    </tr>\n",
       "    <tr>\n",
       "      <th>977</th>\n",
       "      <td>1957</td>\n",
       "      <td>Graduation</td>\n",
       "      <td>Together</td>\n",
       "      <td>47320.0</td>\n",
       "      <td>0</td>\n",
       "      <td>1</td>\n",
       "      <td>2013-08-01</td>\n",
       "      <td>10</td>\n",
       "      <td>200</td>\n",
       "      <td>19</td>\n",
       "      <td>...</td>\n",
       "      <td>6</td>\n",
       "      <td>0</td>\n",
       "      <td>0</td>\n",
       "      <td>0</td>\n",
       "      <td>0</td>\n",
       "      <td>0</td>\n",
       "      <td>0</td>\n",
       "      <td>3</td>\n",
       "      <td>11</td>\n",
       "      <td>0</td>\n",
       "    </tr>\n",
       "    <tr>\n",
       "      <th>10150</th>\n",
       "      <td>1961</td>\n",
       "      <td>Graduation</td>\n",
       "      <td>Single</td>\n",
       "      <td>86429.0</td>\n",
       "      <td>0</td>\n",
       "      <td>0</td>\n",
       "      <td>2013-11-21</td>\n",
       "      <td>10</td>\n",
       "      <td>464</td>\n",
       "      <td>28</td>\n",
       "      <td>...</td>\n",
       "      <td>2</td>\n",
       "      <td>0</td>\n",
       "      <td>0</td>\n",
       "      <td>0</td>\n",
       "      <td>1</td>\n",
       "      <td>0</td>\n",
       "      <td>0</td>\n",
       "      <td>3</td>\n",
       "      <td>11</td>\n",
       "      <td>1</td>\n",
       "    </tr>\n",
       "    <tr>\n",
       "      <th>8181</th>\n",
       "      <td>1978</td>\n",
       "      <td>2n Cycle</td>\n",
       "      <td>Single</td>\n",
       "      <td>38593.0</td>\n",
       "      <td>1</td>\n",
       "      <td>0</td>\n",
       "      <td>2013-09-13</td>\n",
       "      <td>42</td>\n",
       "      <td>51</td>\n",
       "      <td>12</td>\n",
       "      <td>...</td>\n",
       "      <td>8</td>\n",
       "      <td>0</td>\n",
       "      <td>0</td>\n",
       "      <td>0</td>\n",
       "      <td>0</td>\n",
       "      <td>0</td>\n",
       "      <td>0</td>\n",
       "      <td>3</td>\n",
       "      <td>11</td>\n",
       "      <td>0</td>\n",
       "    </tr>\n",
       "    <tr>\n",
       "      <th>1399</th>\n",
       "      <td>1958</td>\n",
       "      <td>Graduation</td>\n",
       "      <td>Married</td>\n",
       "      <td>72905.0</td>\n",
       "      <td>0</td>\n",
       "      <td>0</td>\n",
       "      <td>2014-01-21</td>\n",
       "      <td>52</td>\n",
       "      <td>407</td>\n",
       "      <td>114</td>\n",
       "      <td>...</td>\n",
       "      <td>1</td>\n",
       "      <td>0</td>\n",
       "      <td>0</td>\n",
       "      <td>0</td>\n",
       "      <td>1</td>\n",
       "      <td>0</td>\n",
       "      <td>0</td>\n",
       "      <td>3</td>\n",
       "      <td>11</td>\n",
       "      <td>0</td>\n",
       "    </tr>\n",
       "    <tr>\n",
       "      <th>...</th>\n",
       "      <td>...</td>\n",
       "      <td>...</td>\n",
       "      <td>...</td>\n",
       "      <td>...</td>\n",
       "      <td>...</td>\n",
       "      <td>...</td>\n",
       "      <td>...</td>\n",
       "      <td>...</td>\n",
       "      <td>...</td>\n",
       "      <td>...</td>\n",
       "      <td>...</td>\n",
       "      <td>...</td>\n",
       "      <td>...</td>\n",
       "      <td>...</td>\n",
       "      <td>...</td>\n",
       "      <td>...</td>\n",
       "      <td>...</td>\n",
       "      <td>...</td>\n",
       "      <td>...</td>\n",
       "      <td>...</td>\n",
       "      <td>...</td>\n",
       "    </tr>\n",
       "    <tr>\n",
       "      <th>10785</th>\n",
       "      <td>1969</td>\n",
       "      <td>Graduation</td>\n",
       "      <td>Married</td>\n",
       "      <td>44078.0</td>\n",
       "      <td>1</td>\n",
       "      <td>1</td>\n",
       "      <td>2014-06-19</td>\n",
       "      <td>17</td>\n",
       "      <td>24</td>\n",
       "      <td>1</td>\n",
       "      <td>...</td>\n",
       "      <td>5</td>\n",
       "      <td>0</td>\n",
       "      <td>0</td>\n",
       "      <td>0</td>\n",
       "      <td>0</td>\n",
       "      <td>0</td>\n",
       "      <td>0</td>\n",
       "      <td>3</td>\n",
       "      <td>11</td>\n",
       "      <td>0</td>\n",
       "    </tr>\n",
       "    <tr>\n",
       "      <th>9964</th>\n",
       "      <td>1979</td>\n",
       "      <td>Graduation</td>\n",
       "      <td>Single</td>\n",
       "      <td>61825.0</td>\n",
       "      <td>0</td>\n",
       "      <td>1</td>\n",
       "      <td>2013-08-07</td>\n",
       "      <td>56</td>\n",
       "      <td>162</td>\n",
       "      <td>50</td>\n",
       "      <td>...</td>\n",
       "      <td>4</td>\n",
       "      <td>0</td>\n",
       "      <td>0</td>\n",
       "      <td>0</td>\n",
       "      <td>0</td>\n",
       "      <td>0</td>\n",
       "      <td>0</td>\n",
       "      <td>3</td>\n",
       "      <td>11</td>\n",
       "      <td>0</td>\n",
       "    </tr>\n",
       "    <tr>\n",
       "      <th>3412</th>\n",
       "      <td>1951</td>\n",
       "      <td>Master</td>\n",
       "      <td>Married</td>\n",
       "      <td>67381.0</td>\n",
       "      <td>0</td>\n",
       "      <td>1</td>\n",
       "      <td>2013-01-15</td>\n",
       "      <td>67</td>\n",
       "      <td>815</td>\n",
       "      <td>8</td>\n",
       "      <td>...</td>\n",
       "      <td>7</td>\n",
       "      <td>0</td>\n",
       "      <td>1</td>\n",
       "      <td>0</td>\n",
       "      <td>0</td>\n",
       "      <td>0</td>\n",
       "      <td>0</td>\n",
       "      <td>3</td>\n",
       "      <td>11</td>\n",
       "      <td>0</td>\n",
       "    </tr>\n",
       "    <tr>\n",
       "      <th>2811</th>\n",
       "      <td>1963</td>\n",
       "      <td>PhD</td>\n",
       "      <td>Single</td>\n",
       "      <td>48918.0</td>\n",
       "      <td>1</td>\n",
       "      <td>1</td>\n",
       "      <td>2014-04-12</td>\n",
       "      <td>21</td>\n",
       "      <td>52</td>\n",
       "      <td>0</td>\n",
       "      <td>...</td>\n",
       "      <td>4</td>\n",
       "      <td>0</td>\n",
       "      <td>0</td>\n",
       "      <td>0</td>\n",
       "      <td>0</td>\n",
       "      <td>0</td>\n",
       "      <td>0</td>\n",
       "      <td>3</td>\n",
       "      <td>11</td>\n",
       "      <td>0</td>\n",
       "    </tr>\n",
       "    <tr>\n",
       "      <th>4297</th>\n",
       "      <td>1969</td>\n",
       "      <td>Graduation</td>\n",
       "      <td>Together</td>\n",
       "      <td>23228.0</td>\n",
       "      <td>1</td>\n",
       "      <td>0</td>\n",
       "      <td>2014-01-26</td>\n",
       "      <td>71</td>\n",
       "      <td>13</td>\n",
       "      <td>2</td>\n",
       "      <td>...</td>\n",
       "      <td>8</td>\n",
       "      <td>0</td>\n",
       "      <td>0</td>\n",
       "      <td>0</td>\n",
       "      <td>0</td>\n",
       "      <td>0</td>\n",
       "      <td>0</td>\n",
       "      <td>3</td>\n",
       "      <td>11</td>\n",
       "      <td>0</td>\n",
       "    </tr>\n",
       "  </tbody>\n",
       "</table>\n",
       "<p>1568 rows × 28 columns</p>\n",
       "</div>"
      ],
      "text/plain": [
       "       Year_Birth   Education Marital_Status   Income  Kidhome  Teenhome  \\\n",
       "ID                                                                         \n",
       "1640         1954  Graduation       Divorced  64587.0        1         1   \n",
       "977          1957  Graduation       Together  47320.0        0         1   \n",
       "10150        1961  Graduation         Single  86429.0        0         0   \n",
       "8181         1978    2n Cycle         Single  38593.0        1         0   \n",
       "1399         1958  Graduation        Married  72905.0        0         0   \n",
       "...           ...         ...            ...      ...      ...       ...   \n",
       "10785        1969  Graduation        Married  44078.0        1         1   \n",
       "9964         1979  Graduation         Single  61825.0        0         1   \n",
       "3412         1951      Master        Married  67381.0        0         1   \n",
       "2811         1963         PhD         Single  48918.0        1         1   \n",
       "4297         1969  Graduation       Together  23228.0        1         0   \n",
       "\n",
       "      Dt_Customer  Recency  MntWines  MntFruits  ...  NumWebVisitsMonth  \\\n",
       "ID                                               ...                      \n",
       "1640   2014-06-22       49        66          0  ...                  3   \n",
       "977    2013-08-01       10       200         19  ...                  6   \n",
       "10150  2013-11-21       10       464         28  ...                  2   \n",
       "8181   2013-09-13       42        51         12  ...                  8   \n",
       "1399   2014-01-21       52       407        114  ...                  1   \n",
       "...           ...      ...       ...        ...  ...                ...   \n",
       "10785  2014-06-19       17        24          1  ...                  5   \n",
       "9964   2013-08-07       56       162         50  ...                  4   \n",
       "3412   2013-01-15       67       815          8  ...                  7   \n",
       "2811   2014-04-12       21        52          0  ...                  4   \n",
       "4297   2014-01-26       71        13          2  ...                  8   \n",
       "\n",
       "       AcceptedCmp3  AcceptedCmp4  AcceptedCmp5  AcceptedCmp1  AcceptedCmp2  \\\n",
       "ID                                                                            \n",
       "1640              0             0             0             0             0   \n",
       "977               0             0             0             0             0   \n",
       "10150             0             0             0             1             0   \n",
       "8181              0             0             0             0             0   \n",
       "1399              0             0             0             1             0   \n",
       "...             ...           ...           ...           ...           ...   \n",
       "10785             0             0             0             0             0   \n",
       "9964              0             0             0             0             0   \n",
       "3412              0             1             0             0             0   \n",
       "2811              0             0             0             0             0   \n",
       "4297              0             0             0             0             0   \n",
       "\n",
       "       Complain  Z_CostContact  Z_Revenue  Response  \n",
       "ID                                                   \n",
       "1640          0              3         11         0  \n",
       "977           0              3         11         0  \n",
       "10150         0              3         11         1  \n",
       "8181          0              3         11         0  \n",
       "1399          0              3         11         0  \n",
       "...         ...            ...        ...       ...  \n",
       "10785         0              3         11         0  \n",
       "9964          0              3         11         0  \n",
       "3412          0              3         11         0  \n",
       "2811          0              3         11         0  \n",
       "4297          0              3         11         0  \n",
       "\n",
       "[1568 rows x 28 columns]"
      ]
     },
     "execution_count": 5,
     "metadata": {},
     "output_type": "execute_result"
    }
   ],
   "source": [
    "ruta_completa = ruta_proyecto + '/02_Datos/03_Trabajo/' + nombre_fichero_datos\n",
    "\n",
    "df = pd.read_csv(ruta_completa,index_col=0)\n",
    "df"
   ]
  },
  {
   "cell_type": "markdown",
   "id": "9790d322",
   "metadata": {},
   "source": [
    "## CORRECCIÓN DE NOMBRES DE VARIABLES"
   ]
  },
  {
   "cell_type": "markdown",
   "id": "f1fa5201",
   "metadata": {},
   "source": [
    "### Corrección automática"
   ]
  },
  {
   "cell_type": "code",
   "execution_count": 6,
   "id": "02607b69",
   "metadata": {},
   "outputs": [
    {
     "data": {
      "text/html": [
       "<div>\n",
       "<style scoped>\n",
       "    .dataframe tbody tr th:only-of-type {\n",
       "        vertical-align: middle;\n",
       "    }\n",
       "\n",
       "    .dataframe tbody tr th {\n",
       "        vertical-align: top;\n",
       "    }\n",
       "\n",
       "    .dataframe thead th {\n",
       "        text-align: right;\n",
       "    }\n",
       "</style>\n",
       "<table border=\"1\" class=\"dataframe\">\n",
       "  <thead>\n",
       "    <tr style=\"text-align: right;\">\n",
       "      <th></th>\n",
       "      <th>year_birth</th>\n",
       "      <th>education</th>\n",
       "      <th>marital_status</th>\n",
       "      <th>income</th>\n",
       "      <th>kidhome</th>\n",
       "      <th>teenhome</th>\n",
       "      <th>dt_customer</th>\n",
       "      <th>recency</th>\n",
       "      <th>mntwines</th>\n",
       "      <th>mntfruits</th>\n",
       "      <th>...</th>\n",
       "      <th>numwebvisitsmonth</th>\n",
       "      <th>acceptedcmp3</th>\n",
       "      <th>acceptedcmp4</th>\n",
       "      <th>acceptedcmp5</th>\n",
       "      <th>acceptedcmp1</th>\n",
       "      <th>acceptedcmp2</th>\n",
       "      <th>complain</th>\n",
       "      <th>z_costcontact</th>\n",
       "      <th>z_revenue</th>\n",
       "      <th>response</th>\n",
       "    </tr>\n",
       "    <tr>\n",
       "      <th>ID</th>\n",
       "      <th></th>\n",
       "      <th></th>\n",
       "      <th></th>\n",
       "      <th></th>\n",
       "      <th></th>\n",
       "      <th></th>\n",
       "      <th></th>\n",
       "      <th></th>\n",
       "      <th></th>\n",
       "      <th></th>\n",
       "      <th></th>\n",
       "      <th></th>\n",
       "      <th></th>\n",
       "      <th></th>\n",
       "      <th></th>\n",
       "      <th></th>\n",
       "      <th></th>\n",
       "      <th></th>\n",
       "      <th></th>\n",
       "      <th></th>\n",
       "      <th></th>\n",
       "    </tr>\n",
       "  </thead>\n",
       "  <tbody>\n",
       "    <tr>\n",
       "      <th>1640</th>\n",
       "      <td>1954</td>\n",
       "      <td>Graduation</td>\n",
       "      <td>Divorced</td>\n",
       "      <td>64587.0</td>\n",
       "      <td>1</td>\n",
       "      <td>1</td>\n",
       "      <td>2014-06-22</td>\n",
       "      <td>49</td>\n",
       "      <td>66</td>\n",
       "      <td>0</td>\n",
       "      <td>...</td>\n",
       "      <td>3</td>\n",
       "      <td>0</td>\n",
       "      <td>0</td>\n",
       "      <td>0</td>\n",
       "      <td>0</td>\n",
       "      <td>0</td>\n",
       "      <td>0</td>\n",
       "      <td>3</td>\n",
       "      <td>11</td>\n",
       "      <td>0</td>\n",
       "    </tr>\n",
       "    <tr>\n",
       "      <th>977</th>\n",
       "      <td>1957</td>\n",
       "      <td>Graduation</td>\n",
       "      <td>Together</td>\n",
       "      <td>47320.0</td>\n",
       "      <td>0</td>\n",
       "      <td>1</td>\n",
       "      <td>2013-08-01</td>\n",
       "      <td>10</td>\n",
       "      <td>200</td>\n",
       "      <td>19</td>\n",
       "      <td>...</td>\n",
       "      <td>6</td>\n",
       "      <td>0</td>\n",
       "      <td>0</td>\n",
       "      <td>0</td>\n",
       "      <td>0</td>\n",
       "      <td>0</td>\n",
       "      <td>0</td>\n",
       "      <td>3</td>\n",
       "      <td>11</td>\n",
       "      <td>0</td>\n",
       "    </tr>\n",
       "    <tr>\n",
       "      <th>10150</th>\n",
       "      <td>1961</td>\n",
       "      <td>Graduation</td>\n",
       "      <td>Single</td>\n",
       "      <td>86429.0</td>\n",
       "      <td>0</td>\n",
       "      <td>0</td>\n",
       "      <td>2013-11-21</td>\n",
       "      <td>10</td>\n",
       "      <td>464</td>\n",
       "      <td>28</td>\n",
       "      <td>...</td>\n",
       "      <td>2</td>\n",
       "      <td>0</td>\n",
       "      <td>0</td>\n",
       "      <td>0</td>\n",
       "      <td>1</td>\n",
       "      <td>0</td>\n",
       "      <td>0</td>\n",
       "      <td>3</td>\n",
       "      <td>11</td>\n",
       "      <td>1</td>\n",
       "    </tr>\n",
       "    <tr>\n",
       "      <th>8181</th>\n",
       "      <td>1978</td>\n",
       "      <td>2n Cycle</td>\n",
       "      <td>Single</td>\n",
       "      <td>38593.0</td>\n",
       "      <td>1</td>\n",
       "      <td>0</td>\n",
       "      <td>2013-09-13</td>\n",
       "      <td>42</td>\n",
       "      <td>51</td>\n",
       "      <td>12</td>\n",
       "      <td>...</td>\n",
       "      <td>8</td>\n",
       "      <td>0</td>\n",
       "      <td>0</td>\n",
       "      <td>0</td>\n",
       "      <td>0</td>\n",
       "      <td>0</td>\n",
       "      <td>0</td>\n",
       "      <td>3</td>\n",
       "      <td>11</td>\n",
       "      <td>0</td>\n",
       "    </tr>\n",
       "    <tr>\n",
       "      <th>1399</th>\n",
       "      <td>1958</td>\n",
       "      <td>Graduation</td>\n",
       "      <td>Married</td>\n",
       "      <td>72905.0</td>\n",
       "      <td>0</td>\n",
       "      <td>0</td>\n",
       "      <td>2014-01-21</td>\n",
       "      <td>52</td>\n",
       "      <td>407</td>\n",
       "      <td>114</td>\n",
       "      <td>...</td>\n",
       "      <td>1</td>\n",
       "      <td>0</td>\n",
       "      <td>0</td>\n",
       "      <td>0</td>\n",
       "      <td>1</td>\n",
       "      <td>0</td>\n",
       "      <td>0</td>\n",
       "      <td>3</td>\n",
       "      <td>11</td>\n",
       "      <td>0</td>\n",
       "    </tr>\n",
       "    <tr>\n",
       "      <th>...</th>\n",
       "      <td>...</td>\n",
       "      <td>...</td>\n",
       "      <td>...</td>\n",
       "      <td>...</td>\n",
       "      <td>...</td>\n",
       "      <td>...</td>\n",
       "      <td>...</td>\n",
       "      <td>...</td>\n",
       "      <td>...</td>\n",
       "      <td>...</td>\n",
       "      <td>...</td>\n",
       "      <td>...</td>\n",
       "      <td>...</td>\n",
       "      <td>...</td>\n",
       "      <td>...</td>\n",
       "      <td>...</td>\n",
       "      <td>...</td>\n",
       "      <td>...</td>\n",
       "      <td>...</td>\n",
       "      <td>...</td>\n",
       "      <td>...</td>\n",
       "    </tr>\n",
       "    <tr>\n",
       "      <th>10785</th>\n",
       "      <td>1969</td>\n",
       "      <td>Graduation</td>\n",
       "      <td>Married</td>\n",
       "      <td>44078.0</td>\n",
       "      <td>1</td>\n",
       "      <td>1</td>\n",
       "      <td>2014-06-19</td>\n",
       "      <td>17</td>\n",
       "      <td>24</td>\n",
       "      <td>1</td>\n",
       "      <td>...</td>\n",
       "      <td>5</td>\n",
       "      <td>0</td>\n",
       "      <td>0</td>\n",
       "      <td>0</td>\n",
       "      <td>0</td>\n",
       "      <td>0</td>\n",
       "      <td>0</td>\n",
       "      <td>3</td>\n",
       "      <td>11</td>\n",
       "      <td>0</td>\n",
       "    </tr>\n",
       "    <tr>\n",
       "      <th>9964</th>\n",
       "      <td>1979</td>\n",
       "      <td>Graduation</td>\n",
       "      <td>Single</td>\n",
       "      <td>61825.0</td>\n",
       "      <td>0</td>\n",
       "      <td>1</td>\n",
       "      <td>2013-08-07</td>\n",
       "      <td>56</td>\n",
       "      <td>162</td>\n",
       "      <td>50</td>\n",
       "      <td>...</td>\n",
       "      <td>4</td>\n",
       "      <td>0</td>\n",
       "      <td>0</td>\n",
       "      <td>0</td>\n",
       "      <td>0</td>\n",
       "      <td>0</td>\n",
       "      <td>0</td>\n",
       "      <td>3</td>\n",
       "      <td>11</td>\n",
       "      <td>0</td>\n",
       "    </tr>\n",
       "    <tr>\n",
       "      <th>3412</th>\n",
       "      <td>1951</td>\n",
       "      <td>Master</td>\n",
       "      <td>Married</td>\n",
       "      <td>67381.0</td>\n",
       "      <td>0</td>\n",
       "      <td>1</td>\n",
       "      <td>2013-01-15</td>\n",
       "      <td>67</td>\n",
       "      <td>815</td>\n",
       "      <td>8</td>\n",
       "      <td>...</td>\n",
       "      <td>7</td>\n",
       "      <td>0</td>\n",
       "      <td>1</td>\n",
       "      <td>0</td>\n",
       "      <td>0</td>\n",
       "      <td>0</td>\n",
       "      <td>0</td>\n",
       "      <td>3</td>\n",
       "      <td>11</td>\n",
       "      <td>0</td>\n",
       "    </tr>\n",
       "    <tr>\n",
       "      <th>2811</th>\n",
       "      <td>1963</td>\n",
       "      <td>PhD</td>\n",
       "      <td>Single</td>\n",
       "      <td>48918.0</td>\n",
       "      <td>1</td>\n",
       "      <td>1</td>\n",
       "      <td>2014-04-12</td>\n",
       "      <td>21</td>\n",
       "      <td>52</td>\n",
       "      <td>0</td>\n",
       "      <td>...</td>\n",
       "      <td>4</td>\n",
       "      <td>0</td>\n",
       "      <td>0</td>\n",
       "      <td>0</td>\n",
       "      <td>0</td>\n",
       "      <td>0</td>\n",
       "      <td>0</td>\n",
       "      <td>3</td>\n",
       "      <td>11</td>\n",
       "      <td>0</td>\n",
       "    </tr>\n",
       "    <tr>\n",
       "      <th>4297</th>\n",
       "      <td>1969</td>\n",
       "      <td>Graduation</td>\n",
       "      <td>Together</td>\n",
       "      <td>23228.0</td>\n",
       "      <td>1</td>\n",
       "      <td>0</td>\n",
       "      <td>2014-01-26</td>\n",
       "      <td>71</td>\n",
       "      <td>13</td>\n",
       "      <td>2</td>\n",
       "      <td>...</td>\n",
       "      <td>8</td>\n",
       "      <td>0</td>\n",
       "      <td>0</td>\n",
       "      <td>0</td>\n",
       "      <td>0</td>\n",
       "      <td>0</td>\n",
       "      <td>0</td>\n",
       "      <td>3</td>\n",
       "      <td>11</td>\n",
       "      <td>0</td>\n",
       "    </tr>\n",
       "  </tbody>\n",
       "</table>\n",
       "<p>1568 rows × 28 columns</p>\n",
       "</div>"
      ],
      "text/plain": [
       "       year_birth   education marital_status   income  kidhome  teenhome  \\\n",
       "ID                                                                         \n",
       "1640         1954  Graduation       Divorced  64587.0        1         1   \n",
       "977          1957  Graduation       Together  47320.0        0         1   \n",
       "10150        1961  Graduation         Single  86429.0        0         0   \n",
       "8181         1978    2n Cycle         Single  38593.0        1         0   \n",
       "1399         1958  Graduation        Married  72905.0        0         0   \n",
       "...           ...         ...            ...      ...      ...       ...   \n",
       "10785        1969  Graduation        Married  44078.0        1         1   \n",
       "9964         1979  Graduation         Single  61825.0        0         1   \n",
       "3412         1951      Master        Married  67381.0        0         1   \n",
       "2811         1963         PhD         Single  48918.0        1         1   \n",
       "4297         1969  Graduation       Together  23228.0        1         0   \n",
       "\n",
       "      dt_customer  recency  mntwines  mntfruits  ...  numwebvisitsmonth  \\\n",
       "ID                                               ...                      \n",
       "1640   2014-06-22       49        66          0  ...                  3   \n",
       "977    2013-08-01       10       200         19  ...                  6   \n",
       "10150  2013-11-21       10       464         28  ...                  2   \n",
       "8181   2013-09-13       42        51         12  ...                  8   \n",
       "1399   2014-01-21       52       407        114  ...                  1   \n",
       "...           ...      ...       ...        ...  ...                ...   \n",
       "10785  2014-06-19       17        24          1  ...                  5   \n",
       "9964   2013-08-07       56       162         50  ...                  4   \n",
       "3412   2013-01-15       67       815          8  ...                  7   \n",
       "2811   2014-04-12       21        52          0  ...                  4   \n",
       "4297   2014-01-26       71        13          2  ...                  8   \n",
       "\n",
       "       acceptedcmp3  acceptedcmp4  acceptedcmp5  acceptedcmp1  acceptedcmp2  \\\n",
       "ID                                                                            \n",
       "1640              0             0             0             0             0   \n",
       "977               0             0             0             0             0   \n",
       "10150             0             0             0             1             0   \n",
       "8181              0             0             0             0             0   \n",
       "1399              0             0             0             1             0   \n",
       "...             ...           ...           ...           ...           ...   \n",
       "10785             0             0             0             0             0   \n",
       "9964              0             0             0             0             0   \n",
       "3412              0             1             0             0             0   \n",
       "2811              0             0             0             0             0   \n",
       "4297              0             0             0             0             0   \n",
       "\n",
       "       complain  z_costcontact  z_revenue  response  \n",
       "ID                                                   \n",
       "1640          0              3         11         0  \n",
       "977           0              3         11         0  \n",
       "10150         0              3         11         1  \n",
       "8181          0              3         11         0  \n",
       "1399          0              3         11         0  \n",
       "...         ...            ...        ...       ...  \n",
       "10785         0              3         11         0  \n",
       "9964          0              3         11         0  \n",
       "3412          0              3         11         0  \n",
       "2811          0              3         11         0  \n",
       "4297          0              3         11         0  \n",
       "\n",
       "[1568 rows x 28 columns]"
      ]
     },
     "execution_count": 6,
     "metadata": {},
     "output_type": "execute_result"
    }
   ],
   "source": [
    "df = clean_names(df)\n",
    "df"
   ]
  },
  {
   "cell_type": "markdown",
   "id": "d2d5443c",
   "metadata": {},
   "source": [
    "## VISIÓN GENERAL"
   ]
  },
  {
   "cell_type": "code",
   "execution_count": 7,
   "id": "976c8ac6",
   "metadata": {},
   "outputs": [
    {
     "name": "stdout",
     "output_type": "stream",
     "text": [
      "<class 'pandas.core.frame.DataFrame'>\n",
      "Index: 1568 entries, 1640 to 4297\n",
      "Data columns (total 28 columns):\n",
      " #   Column               Non-Null Count  Dtype  \n",
      "---  ------               --------------  -----  \n",
      " 0   year_birth           1568 non-null   int64  \n",
      " 1   education            1568 non-null   object \n",
      " 2   marital_status       1568 non-null   object \n",
      " 3   income               1552 non-null   float64\n",
      " 4   kidhome              1568 non-null   int64  \n",
      " 5   teenhome             1568 non-null   int64  \n",
      " 6   dt_customer          1568 non-null   object \n",
      " 7   recency              1568 non-null   int64  \n",
      " 8   mntwines             1568 non-null   int64  \n",
      " 9   mntfruits            1568 non-null   int64  \n",
      " 10  mntmeatproducts      1568 non-null   int64  \n",
      " 11  mntfishproducts      1568 non-null   int64  \n",
      " 12  mntsweetproducts     1568 non-null   int64  \n",
      " 13  mntgoldprods         1568 non-null   int64  \n",
      " 14  numdealspurchases    1568 non-null   int64  \n",
      " 15  numwebpurchases      1568 non-null   int64  \n",
      " 16  numcatalogpurchases  1568 non-null   int64  \n",
      " 17  numstorepurchases    1568 non-null   int64  \n",
      " 18  numwebvisitsmonth    1568 non-null   int64  \n",
      " 19  acceptedcmp3         1568 non-null   int64  \n",
      " 20  acceptedcmp4         1568 non-null   int64  \n",
      " 21  acceptedcmp5         1568 non-null   int64  \n",
      " 22  acceptedcmp1         1568 non-null   int64  \n",
      " 23  acceptedcmp2         1568 non-null   int64  \n",
      " 24  complain             1568 non-null   int64  \n",
      " 25  z_costcontact        1568 non-null   int64  \n",
      " 26  z_revenue            1568 non-null   int64  \n",
      " 27  response             1568 non-null   int64  \n",
      "dtypes: float64(1), int64(24), object(3)\n",
      "memory usage: 355.2+ KB\n"
     ]
    }
   ],
   "source": [
    "df.info()"
   ]
  },
  {
   "cell_type": "markdown",
   "id": "158ee1d7",
   "metadata": {},
   "source": [
    "## TIPOS DE DATOS"
   ]
  },
  {
   "cell_type": "markdown",
   "id": "88162727",
   "metadata": {},
   "source": [
    "### Identificación"
   ]
  },
  {
   "cell_type": "code",
   "execution_count": 8,
   "id": "197a99c2",
   "metadata": {},
   "outputs": [
    {
     "data": {
      "text/plain": [
       "year_birth               int64\n",
       "education               object\n",
       "marital_status          object\n",
       "income                 float64\n",
       "kidhome                  int64\n",
       "teenhome                 int64\n",
       "dt_customer             object\n",
       "recency                  int64\n",
       "mntwines                 int64\n",
       "mntfruits                int64\n",
       "mntmeatproducts          int64\n",
       "mntfishproducts          int64\n",
       "mntsweetproducts         int64\n",
       "mntgoldprods             int64\n",
       "numdealspurchases        int64\n",
       "numwebpurchases          int64\n",
       "numcatalogpurchases      int64\n",
       "numstorepurchases        int64\n",
       "numwebvisitsmonth        int64\n",
       "acceptedcmp3             int64\n",
       "acceptedcmp4             int64\n",
       "acceptedcmp5             int64\n",
       "acceptedcmp1             int64\n",
       "acceptedcmp2             int64\n",
       "complain                 int64\n",
       "z_costcontact            int64\n",
       "z_revenue                int64\n",
       "response                 int64\n",
       "dtype: object"
      ]
     },
     "execution_count": 8,
     "metadata": {},
     "output_type": "execute_result"
    }
   ],
   "source": [
    "df.dtypes"
   ]
  },
  {
   "cell_type": "markdown",
   "id": "54f495a6",
   "metadata": {},
   "source": [
    "### Corrección"
   ]
  },
  {
   "cell_type": "code",
   "execution_count": 9,
   "id": "828b9893",
   "metadata": {
    "scrolled": true
   },
   "outputs": [
    {
     "data": {
      "text/plain": [
       "year_birth                      int64\n",
       "education                      object\n",
       "marital_status                 object\n",
       "income                        float64\n",
       "kidhome                         int64\n",
       "teenhome                        int64\n",
       "dt_customer            datetime64[ns]\n",
       "recency                         int64\n",
       "mntwines                        int64\n",
       "mntfruits                       int64\n",
       "mntmeatproducts                 int64\n",
       "mntfishproducts                 int64\n",
       "mntsweetproducts                int64\n",
       "mntgoldprods                    int64\n",
       "numdealspurchases               int64\n",
       "numwebpurchases                 int64\n",
       "numcatalogpurchases             int64\n",
       "numstorepurchases               int64\n",
       "numwebvisitsmonth               int64\n",
       "acceptedcmp3                    int64\n",
       "acceptedcmp4                    int64\n",
       "acceptedcmp5                    int64\n",
       "acceptedcmp1                    int64\n",
       "acceptedcmp2                    int64\n",
       "complain                        int64\n",
       "z_costcontact                   int64\n",
       "z_revenue                       int64\n",
       "response                        int64\n",
       "dtype: object"
      ]
     },
     "execution_count": 9,
     "metadata": {},
     "output_type": "execute_result"
    }
   ],
   "source": [
    "df = df.astype({'dt_customer':'datetime64[ns]'})\n",
    "\n",
    "df.dtypes"
   ]
  },
  {
   "cell_type": "markdown",
   "id": "cc8d4a22",
   "metadata": {},
   "source": [
    "## VALORES ÚNICOS"
   ]
  },
  {
   "cell_type": "markdown",
   "id": "f21f0e36",
   "metadata": {},
   "source": [
    "### Identificación"
   ]
  },
  {
   "cell_type": "code",
   "execution_count": 10,
   "id": "6e53e444",
   "metadata": {},
   "outputs": [
    {
     "data": {
      "text/plain": [
       "z_revenue                 1\n",
       "z_costcontact             1\n",
       "response                  2\n",
       "acceptedcmp3              2\n",
       "acceptedcmp4              2\n",
       "acceptedcmp5              2\n",
       "acceptedcmp2              2\n",
       "acceptedcmp1              2\n",
       "complain                  2\n",
       "teenhome                  3\n",
       "kidhome                   3\n",
       "education                 5\n",
       "marital_status            8\n",
       "numcatalogpurchases      14\n",
       "numwebpurchases          14\n",
       "numstorepurchases        14\n",
       "numdealspurchases        15\n",
       "numwebvisitsmonth        16\n",
       "year_birth               56\n",
       "recency                 100\n",
       "mntfruits               148\n",
       "mntsweetproducts        163\n",
       "mntfishproducts         170\n",
       "mntgoldprods            199\n",
       "mntmeatproducts         486\n",
       "dt_customer             619\n",
       "mntwines                643\n",
       "income                 1431\n",
       "dtype: int64"
      ]
     },
     "execution_count": 10,
     "metadata": {},
     "output_type": "execute_result"
    }
   ],
   "source": [
    "df.nunique().sort_values()"
   ]
  },
  {
   "cell_type": "markdown",
   "id": "b1d1a668",
   "metadata": {},
   "source": [
    "### Corrección"
   ]
  },
  {
   "cell_type": "markdown",
   "id": "f6fb5265",
   "metadata": {},
   "source": [
    "Eliminación de columnas con una cardinalidad de 1"
   ]
  },
  {
   "cell_type": "code",
   "execution_count": 11,
   "id": "62f7d14e",
   "metadata": {},
   "outputs": [],
   "source": [
    "df.drop(columns = ['z_revenue','z_costcontact'], inplace = True)"
   ]
  },
  {
   "cell_type": "markdown",
   "id": "e25cfc89",
   "metadata": {},
   "source": [
    "## DUPLICADOS"
   ]
  },
  {
   "cell_type": "markdown",
   "id": "8a079ed3",
   "metadata": {},
   "source": [
    "### Identificación"
   ]
  },
  {
   "cell_type": "code",
   "execution_count": 12,
   "id": "f5b23bfc",
   "metadata": {
    "scrolled": true
   },
   "outputs": [
    {
     "data": {
      "text/plain": [
       "87"
      ]
     },
     "execution_count": 12,
     "metadata": {},
     "output_type": "execute_result"
    }
   ],
   "source": [
    "df.duplicated().sum()"
   ]
  },
  {
   "cell_type": "markdown",
   "id": "d440242b",
   "metadata": {},
   "source": [
    "### Corrección"
   ]
  },
  {
   "cell_type": "code",
   "execution_count": 13,
   "id": "a693f362",
   "metadata": {},
   "outputs": [],
   "source": [
    "df.drop_duplicates(inplace = True)"
   ]
  },
  {
   "cell_type": "markdown",
   "id": "632ec2cd",
   "metadata": {},
   "source": [
    "## SEPARAR NUMÉRICAS Y CATEGÓRICAS"
   ]
  },
  {
   "cell_type": "markdown",
   "id": "573a61ac",
   "metadata": {},
   "source": [
    "### Categóricas"
   ]
  },
  {
   "cell_type": "code",
   "execution_count": 14,
   "id": "47a7eece",
   "metadata": {},
   "outputs": [],
   "source": [
    "cat = df.select_dtypes(exclude = 'number').copy()"
   ]
  },
  {
   "cell_type": "code",
   "execution_count": 15,
   "id": "765decaf",
   "metadata": {},
   "outputs": [],
   "source": [
    "cat = cat.drop(columns='dt_customer')"
   ]
  },
  {
   "cell_type": "markdown",
   "id": "41756893",
   "metadata": {},
   "source": [
    "### Numéricas"
   ]
  },
  {
   "cell_type": "code",
   "execution_count": 16,
   "id": "59140e9a",
   "metadata": {},
   "outputs": [],
   "source": [
    "num = df.select_dtypes(include='number').copy()"
   ]
  },
  {
   "cell_type": "markdown",
   "id": "5e7d8e7e",
   "metadata": {},
   "source": [
    "## GESTIÓN DE CATEGÓRICAS"
   ]
  },
  {
   "cell_type": "markdown",
   "id": "5b5808b7",
   "metadata": {},
   "source": [
    "### Nulos"
   ]
  },
  {
   "cell_type": "markdown",
   "id": "5c08ca55",
   "metadata": {},
   "source": [
    "#### Identificación"
   ]
  },
  {
   "cell_type": "code",
   "execution_count": 17,
   "id": "da49ae63",
   "metadata": {
    "scrolled": true
   },
   "outputs": [
    {
     "data": {
      "text/plain": [
       "education         0\n",
       "marital_status    0\n",
       "dtype: int64"
      ]
     },
     "execution_count": 17,
     "metadata": {},
     "output_type": "execute_result"
    }
   ],
   "source": [
    "cat.isna().sum().sort_values(ascending = False)"
   ]
  },
  {
   "cell_type": "markdown",
   "id": "913cd65d",
   "metadata": {},
   "source": [
    "### Atípicos"
   ]
  },
  {
   "cell_type": "markdown",
   "id": "5a575397",
   "metadata": {},
   "source": [
    "#### Categorías poco frecuentes"
   ]
  },
  {
   "cell_type": "code",
   "execution_count": 26,
   "id": "0f657888",
   "metadata": {},
   "outputs": [],
   "source": [
    "def frecuencias_cat(df_cat):\n",
    "    resultado = df_cat.apply(lambda x: x.value_counts(normalize = True)).T.stack()\\\n",
    "                .to_frame().reset_index()\\\n",
    "                .rename(columns={'level_0':'Variable','level_1':'Valor',0: \"Frecuencia\"})\\\n",
    "                .sort_values(by = ['Variable','Frecuencia'])\n",
    "    return(resultado)"
   ]
  },
  {
   "cell_type": "code",
   "execution_count": 27,
   "id": "6105d680",
   "metadata": {},
   "outputs": [
    {
     "data": {
      "text/html": [
       "<div>\n",
       "<style scoped>\n",
       "    .dataframe tbody tr th:only-of-type {\n",
       "        vertical-align: middle;\n",
       "    }\n",
       "\n",
       "    .dataframe tbody tr th {\n",
       "        vertical-align: top;\n",
       "    }\n",
       "\n",
       "    .dataframe thead th {\n",
       "        text-align: right;\n",
       "    }\n",
       "</style>\n",
       "<table border=\"1\" class=\"dataframe\">\n",
       "  <thead>\n",
       "    <tr style=\"text-align: right;\">\n",
       "      <th></th>\n",
       "      <th>Variable</th>\n",
       "      <th>Valor</th>\n",
       "      <th>Frecuencia</th>\n",
       "    </tr>\n",
       "  </thead>\n",
       "  <tbody>\n",
       "    <tr>\n",
       "      <th>1</th>\n",
       "      <td>education</td>\n",
       "      <td>Basic</td>\n",
       "      <td>0.024308</td>\n",
       "    </tr>\n",
       "    <tr>\n",
       "      <th>0</th>\n",
       "      <td>education</td>\n",
       "      <td>2n Cycle</td>\n",
       "      <td>0.092505</td>\n",
       "    </tr>\n",
       "    <tr>\n",
       "      <th>3</th>\n",
       "      <td>education</td>\n",
       "      <td>Master</td>\n",
       "      <td>0.157326</td>\n",
       "    </tr>\n",
       "    <tr>\n",
       "      <th>4</th>\n",
       "      <td>education</td>\n",
       "      <td>PhD</td>\n",
       "      <td>0.217421</td>\n",
       "    </tr>\n",
       "    <tr>\n",
       "      <th>2</th>\n",
       "      <td>education</td>\n",
       "      <td>Graduation</td>\n",
       "      <td>0.508440</td>\n",
       "    </tr>\n",
       "    <tr>\n",
       "      <th>5</th>\n",
       "      <td>marital_status</td>\n",
       "      <td>Absurd</td>\n",
       "      <td>0.000675</td>\n",
       "    </tr>\n",
       "    <tr>\n",
       "      <th>12</th>\n",
       "      <td>marital_status</td>\n",
       "      <td>YOLO</td>\n",
       "      <td>0.001350</td>\n",
       "    </tr>\n",
       "    <tr>\n",
       "      <th>6</th>\n",
       "      <td>marital_status</td>\n",
       "      <td>Alone</td>\n",
       "      <td>0.002026</td>\n",
       "    </tr>\n",
       "    <tr>\n",
       "      <th>11</th>\n",
       "      <td>marital_status</td>\n",
       "      <td>Widow</td>\n",
       "      <td>0.031735</td>\n",
       "    </tr>\n",
       "    <tr>\n",
       "      <th>7</th>\n",
       "      <td>marital_status</td>\n",
       "      <td>Divorced</td>\n",
       "      <td>0.101283</td>\n",
       "    </tr>\n",
       "    <tr>\n",
       "      <th>9</th>\n",
       "      <td>marital_status</td>\n",
       "      <td>Single</td>\n",
       "      <td>0.211344</td>\n",
       "    </tr>\n",
       "    <tr>\n",
       "      <th>10</th>\n",
       "      <td>marital_status</td>\n",
       "      <td>Together</td>\n",
       "      <td>0.258609</td>\n",
       "    </tr>\n",
       "    <tr>\n",
       "      <th>8</th>\n",
       "      <td>marital_status</td>\n",
       "      <td>Married</td>\n",
       "      <td>0.392978</td>\n",
       "    </tr>\n",
       "  </tbody>\n",
       "</table>\n",
       "</div>"
      ],
      "text/plain": [
       "          Variable       Valor  Frecuencia\n",
       "1        education       Basic    0.024308\n",
       "0        education    2n Cycle    0.092505\n",
       "3        education      Master    0.157326\n",
       "4        education         PhD    0.217421\n",
       "2        education  Graduation    0.508440\n",
       "5   marital_status      Absurd    0.000675\n",
       "12  marital_status        YOLO    0.001350\n",
       "6   marital_status       Alone    0.002026\n",
       "11  marital_status       Widow    0.031735\n",
       "7   marital_status    Divorced    0.101283\n",
       "9   marital_status      Single    0.211344\n",
       "10  marital_status    Together    0.258609\n",
       "8   marital_status     Married    0.392978"
      ]
     },
     "execution_count": 27,
     "metadata": {},
     "output_type": "execute_result"
    }
   ],
   "source": [
    "frecuencias_cat(cat)"
   ]
  },
  {
   "cell_type": "markdown",
   "id": "e88c9f39",
   "metadata": {},
   "source": [
    "##### Función para agrupar categorías raras en 'OTROS'"
   ]
  },
  {
   "cell_type": "code",
   "execution_count": 28,
   "id": "c59f8d06",
   "metadata": {},
   "outputs": [],
   "source": [
    "def agrupar_cat_raras(variable, criterio = 0.05):\n",
    "    #Calcula las frecuencias\n",
    "    frecuencias = variable.value_counts(normalize=True)\n",
    "    #Identifica las que están por debajo del criterio\n",
    "    temp = [cada for cada in frecuencias.loc[frecuencias < criterio].index.values]\n",
    "    #Las recodifica en 'OTROS'\n",
    "    temp2 = np.where(variable.isin(temp),'OTROS',variable)\n",
    "    #Devuelve el resultado\n",
    "    return(temp2)"
   ]
  },
  {
   "cell_type": "code",
   "execution_count": 29,
   "id": "675ecfcd",
   "metadata": {},
   "outputs": [],
   "source": [
    "cat['marital_status']= agrupar_cat_raras(cat['marital_status'],criterio=0.02)"
   ]
  },
  {
   "cell_type": "code",
   "execution_count": 30,
   "id": "f159265d",
   "metadata": {},
   "outputs": [
    {
     "data": {
      "text/html": [
       "<div>\n",
       "<style scoped>\n",
       "    .dataframe tbody tr th:only-of-type {\n",
       "        vertical-align: middle;\n",
       "    }\n",
       "\n",
       "    .dataframe tbody tr th {\n",
       "        vertical-align: top;\n",
       "    }\n",
       "\n",
       "    .dataframe thead th {\n",
       "        text-align: right;\n",
       "    }\n",
       "</style>\n",
       "<table border=\"1\" class=\"dataframe\">\n",
       "  <thead>\n",
       "    <tr style=\"text-align: right;\">\n",
       "      <th></th>\n",
       "      <th>Variable</th>\n",
       "      <th>Valor</th>\n",
       "      <th>Frecuencia</th>\n",
       "    </tr>\n",
       "  </thead>\n",
       "  <tbody>\n",
       "    <tr>\n",
       "      <th>1</th>\n",
       "      <td>education</td>\n",
       "      <td>Basic</td>\n",
       "      <td>0.024308</td>\n",
       "    </tr>\n",
       "    <tr>\n",
       "      <th>0</th>\n",
       "      <td>education</td>\n",
       "      <td>2n Cycle</td>\n",
       "      <td>0.092505</td>\n",
       "    </tr>\n",
       "    <tr>\n",
       "      <th>3</th>\n",
       "      <td>education</td>\n",
       "      <td>Master</td>\n",
       "      <td>0.157326</td>\n",
       "    </tr>\n",
       "    <tr>\n",
       "      <th>4</th>\n",
       "      <td>education</td>\n",
       "      <td>PhD</td>\n",
       "      <td>0.217421</td>\n",
       "    </tr>\n",
       "    <tr>\n",
       "      <th>2</th>\n",
       "      <td>education</td>\n",
       "      <td>Graduation</td>\n",
       "      <td>0.508440</td>\n",
       "    </tr>\n",
       "    <tr>\n",
       "      <th>7</th>\n",
       "      <td>marital_status</td>\n",
       "      <td>OTROS</td>\n",
       "      <td>0.004051</td>\n",
       "    </tr>\n",
       "    <tr>\n",
       "      <th>10</th>\n",
       "      <td>marital_status</td>\n",
       "      <td>Widow</td>\n",
       "      <td>0.031735</td>\n",
       "    </tr>\n",
       "    <tr>\n",
       "      <th>5</th>\n",
       "      <td>marital_status</td>\n",
       "      <td>Divorced</td>\n",
       "      <td>0.101283</td>\n",
       "    </tr>\n",
       "    <tr>\n",
       "      <th>8</th>\n",
       "      <td>marital_status</td>\n",
       "      <td>Single</td>\n",
       "      <td>0.211344</td>\n",
       "    </tr>\n",
       "    <tr>\n",
       "      <th>9</th>\n",
       "      <td>marital_status</td>\n",
       "      <td>Together</td>\n",
       "      <td>0.258609</td>\n",
       "    </tr>\n",
       "    <tr>\n",
       "      <th>6</th>\n",
       "      <td>marital_status</td>\n",
       "      <td>Married</td>\n",
       "      <td>0.392978</td>\n",
       "    </tr>\n",
       "  </tbody>\n",
       "</table>\n",
       "</div>"
      ],
      "text/plain": [
       "          Variable       Valor  Frecuencia\n",
       "1        education       Basic    0.024308\n",
       "0        education    2n Cycle    0.092505\n",
       "3        education      Master    0.157326\n",
       "4        education         PhD    0.217421\n",
       "2        education  Graduation    0.508440\n",
       "7   marital_status       OTROS    0.004051\n",
       "10  marital_status       Widow    0.031735\n",
       "5   marital_status    Divorced    0.101283\n",
       "8   marital_status      Single    0.211344\n",
       "9   marital_status    Together    0.258609\n",
       "6   marital_status     Married    0.392978"
      ]
     },
     "execution_count": 30,
     "metadata": {},
     "output_type": "execute_result"
    }
   ],
   "source": [
    "frecuencias_cat(cat)"
   ]
  },
  {
   "cell_type": "markdown",
   "id": "db3a72a6",
   "metadata": {},
   "source": [
    "## GESTIÓN DE NUMÉRICAS"
   ]
  },
  {
   "cell_type": "markdown",
   "id": "d65bd06a",
   "metadata": {},
   "source": [
    "### Nulos"
   ]
  },
  {
   "cell_type": "markdown",
   "id": "e5ee8416",
   "metadata": {},
   "source": [
    "#### Identificación"
   ]
  },
  {
   "cell_type": "code",
   "execution_count": 33,
   "id": "c9f054a3",
   "metadata": {
    "scrolled": true
   },
   "outputs": [
    {
     "data": {
      "text/plain": [
       "income                 16\n",
       "year_birth              0\n",
       "numwebpurchases         0\n",
       "complain                0\n",
       "acceptedcmp2            0\n",
       "acceptedcmp1            0\n",
       "acceptedcmp5            0\n",
       "acceptedcmp4            0\n",
       "acceptedcmp3            0\n",
       "numwebvisitsmonth       0\n",
       "numstorepurchases       0\n",
       "numcatalogpurchases     0\n",
       "numdealspurchases       0\n",
       "mntgoldprods            0\n",
       "mntsweetproducts        0\n",
       "mntfishproducts         0\n",
       "mntmeatproducts         0\n",
       "mntfruits               0\n",
       "mntwines                0\n",
       "recency                 0\n",
       "teenhome                0\n",
       "kidhome                 0\n",
       "response                0\n",
       "dtype: int64"
      ]
     },
     "execution_count": 33,
     "metadata": {},
     "output_type": "execute_result"
    }
   ],
   "source": [
    "num.isna().sum().sort_values(ascending = False)"
   ]
  },
  {
   "cell_type": "markdown",
   "id": "649c19f3",
   "metadata": {},
   "source": [
    "##### Imputar por la mediana"
   ]
  },
  {
   "cell_type": "markdown",
   "id": "d22ea297",
   "metadata": {},
   "source": [
    "###### Variables a imputar"
   ]
  },
  {
   "cell_type": "code",
   "execution_count": 39,
   "id": "37e4d7f6",
   "metadata": {},
   "outputs": [],
   "source": [
    "var_imputar_mediana = ['income']"
   ]
  },
  {
   "cell_type": "markdown",
   "id": "432c371c",
   "metadata": {},
   "source": [
    "###### Funcion para imputar con la mediana"
   ]
  },
  {
   "cell_type": "code",
   "execution_count": 40,
   "id": "66679233",
   "metadata": {},
   "outputs": [],
   "source": [
    "def imputar_mediana(variable):\n",
    "    if pd.api.types.is_integer_dtype(variable):\n",
    "        return(variable.fillna(int(variable.median())))\n",
    "    else:\n",
    "        return(variable.fillna(variable.median()))"
   ]
  },
  {
   "cell_type": "markdown",
   "id": "70d7a1c5",
   "metadata": {},
   "source": [
    "###### Imputar con la mediana"
   ]
  },
  {
   "cell_type": "code",
   "execution_count": 41,
   "id": "887a4106",
   "metadata": {},
   "outputs": [],
   "source": [
    "num[var_imputar_mediana] = num[var_imputar_mediana].apply(imputar_mediana)"
   ]
  },
  {
   "cell_type": "markdown",
   "id": "82cb56e8",
   "metadata": {},
   "source": [
    "### Atípicos"
   ]
  },
  {
   "cell_type": "markdown",
   "id": "760baf8c",
   "metadata": {},
   "source": [
    "#### Por desviación típica"
   ]
  },
  {
   "cell_type": "markdown",
   "id": "4b508149",
   "metadata": {},
   "source": [
    "##### Identificación"
   ]
  },
  {
   "cell_type": "markdown",
   "id": "8ceda3d3",
   "metadata": {},
   "source": [
    "###### Definir el número de desviaciones típicas"
   ]
  },
  {
   "cell_type": "code",
   "execution_count": 42,
   "id": "2b7419cb",
   "metadata": {},
   "outputs": [],
   "source": [
    "num_desv_tip = 4"
   ]
  },
  {
   "cell_type": "markdown",
   "id": "942da237",
   "metadata": {},
   "source": [
    "###### Función que devuelve los índices de los atípicos"
   ]
  },
  {
   "cell_type": "code",
   "execution_count": 43,
   "id": "8a81f494",
   "metadata": {},
   "outputs": [],
   "source": [
    "def atipicos_desv_tip(variable, num_desv_tip = 4):\n",
    "    #sacamos los nulos por ahora\n",
    "    variable = variable.dropna()\n",
    "    #calculamos los límites\n",
    "    media = np.mean(variable)\n",
    "    sd = np.std(variable)\n",
    "    umbral = sd * num_desv_tip\n",
    "    lim_inf = media - umbral\n",
    "    lim_sup = media + umbral\n",
    "    #encontramos los índices de los que están fuera de los límites\n",
    "    indices = [indice for indice,valor in variable.items() if valor < lim_inf or valor > lim_sup]\n",
    "    return(indices)"
   ]
  },
  {
   "cell_type": "markdown",
   "id": "768e7398",
   "metadata": {},
   "source": [
    "###### Función que cuenta el número de atípicos"
   ]
  },
  {
   "cell_type": "code",
   "execution_count": 44,
   "id": "5c8f4462",
   "metadata": {},
   "outputs": [],
   "source": [
    "def conteo_atipicos(df,variable, num_desv_tip = 4):\n",
    "    atipicos = atipicos_desv_tip(df[variable], num_desv_tip)\n",
    "    return(df.loc[atipicos,variable].value_counts())"
   ]
  },
  {
   "cell_type": "markdown",
   "id": "5cd1e425",
   "metadata": {},
   "source": [
    "###### Variables a aplicar"
   ]
  },
  {
   "cell_type": "code",
   "execution_count": 45,
   "id": "cfbb3d88",
   "metadata": {},
   "outputs": [],
   "source": [
    "var_atipicos_dt = ['income','year_birth','mntgoldprods','mntsweetproducts','mntfishproducts','mntmeatproducts','mntfruits','mntwines','numwebvisitsmonth', 'numstorepurchases','numcatalogpurchases','numdealspurchases']"
   ]
  },
  {
   "cell_type": "markdown",
   "id": "ac400ced",
   "metadata": {},
   "source": [
    "###### Aplicar"
   ]
  },
  {
   "cell_type": "code",
   "execution_count": 46,
   "id": "c4b74e98",
   "metadata": {},
   "outputs": [
    {
     "name": "stdout",
     "output_type": "stream",
     "text": [
      "\n",
      "income:\n",
      "\n",
      "income\n",
      "666666.0    1\n",
      "160803.0    1\n",
      "Name: count, dtype: int64\n",
      "\n",
      "year_birth:\n",
      "\n",
      "year_birth\n",
      "1899    1\n",
      "Name: count, dtype: int64\n",
      "\n",
      "mntgoldprods:\n",
      "\n",
      "mntgoldprods\n",
      "362    1\n",
      "262    1\n",
      "291    1\n",
      "Name: count, dtype: int64\n",
      "\n",
      "mntsweetproducts:\n",
      "\n",
      "mntsweetproducts\n",
      "194    3\n",
      "192    2\n",
      "263    1\n",
      "262    1\n",
      "195    1\n",
      "Name: count, dtype: int64\n",
      "\n",
      "mntfishproducts:\n",
      "\n",
      "mntfishproducts\n",
      "258    2\n",
      "259    1\n",
      "Name: count, dtype: int64\n",
      "\n",
      "mntmeatproducts:\n",
      "\n",
      "mntmeatproducts\n",
      "1725    2\n",
      "1607    1\n",
      "1582    1\n",
      "1622    1\n",
      "Name: count, dtype: int64\n",
      "\n",
      "mntfruits:\n",
      "\n",
      "mntfruits\n",
      "197    1\n",
      "193    1\n",
      "199    1\n",
      "Name: count, dtype: int64\n",
      "\n",
      "mntwines:\n",
      "\n",
      "Series([], Name: count, dtype: int64)\n",
      "\n",
      "numwebvisitsmonth:\n",
      "\n",
      "numwebvisitsmonth\n",
      "20    3\n",
      "19    2\n",
      "17    1\n",
      "Name: count, dtype: int64\n",
      "\n",
      "numstorepurchases:\n",
      "\n",
      "Series([], Name: count, dtype: int64)\n",
      "\n",
      "numcatalogpurchases:\n",
      "\n",
      "numcatalogpurchases\n",
      "28    3\n",
      "22    1\n",
      "Name: count, dtype: int64\n",
      "\n",
      "numdealspurchases:\n",
      "\n",
      "numdealspurchases\n",
      "15    6\n",
      "11    4\n",
      "12    3\n",
      "13    2\n",
      "Name: count, dtype: int64\n"
     ]
    }
   ],
   "source": [
    "for variable in var_atipicos_dt:\n",
    "    print('\\n' + variable + ':\\n')\n",
    "    print(conteo_atipicos(num,variable,num_desv_tip))"
   ]
  },
  {
   "cell_type": "markdown",
   "id": "ec69099e",
   "metadata": {},
   "source": [
    "#### Winsorización automática para múltiples variables"
   ]
  },
  {
   "cell_type": "markdown",
   "id": "49b8433c",
   "metadata": {},
   "source": [
    "##### Variables a winsorizar."
   ]
  },
  {
   "cell_type": "code",
   "execution_count": 53,
   "id": "e4b6c723",
   "metadata": {},
   "outputs": [],
   "source": [
    "var_winsorizar = ['income','year_birth','mntgoldprods','mntsweetproducts','mntfishproducts','mntmeatproducts','mntfruits','mntwines','numwebvisitsmonth', 'numstorepurchases','numcatalogpurchases','numdealspurchases']"
   ]
  },
  {
   "cell_type": "markdown",
   "id": "9478239d",
   "metadata": {},
   "source": [
    "##### Definir los percentiles mínimos y máximos."
   ]
  },
  {
   "cell_type": "code",
   "execution_count": 54,
   "id": "0596e25f",
   "metadata": {},
   "outputs": [],
   "source": [
    "p_min = 0.01\n",
    "p_max = 0.996"
   ]
  },
  {
   "cell_type": "markdown",
   "id": "878af32b",
   "metadata": {},
   "source": [
    "##### Aplicar"
   ]
  },
  {
   "cell_type": "code",
   "execution_count": 55,
   "id": "b0317b54",
   "metadata": {},
   "outputs": [
    {
     "name": "stdout",
     "output_type": "stream",
     "text": [
      "Procesando la variable: income\n",
      "Cuantiles para la variable de tipo Float 'income': 7500.0, 110428.79999999925\n",
      "Resultados después de la winsorización para la variable 'income':\n",
      "count      1481.000000\n",
      "mean      51570.927346\n",
      "std       20937.919821\n",
      "min        7500.000000\n",
      "25%       34961.000000\n",
      "50%       51012.000000\n",
      "75%       67506.000000\n",
      "max      110428.800000\n",
      "Name: income, dtype: float64\n",
      "\n",
      "Procesando la variable: year_birth\n",
      "Cuantiles redondeados para la variable de tipo Int64 'year_birth': 1945, 1994\n",
      "Resultados después de la winsorización para la variable 'year_birth':\n",
      "count    1481.000000\n",
      "mean     1969.081702\n",
      "std        11.736727\n",
      "min      1945.000000\n",
      "25%      1959.000000\n",
      "50%      1970.000000\n",
      "75%      1978.000000\n",
      "max      1994.000000\n",
      "Name: year_birth, dtype: float64\n",
      "\n",
      "Procesando la variable: mntgoldprods\n",
      "Cuantiles redondeados para la variable de tipo Int64 'mntgoldprods': 0, 242\n",
      "Resultados después de la winsorización para la variable 'mntgoldprods':\n",
      "count    1481.000000\n",
      "mean       43.586090\n",
      "std        51.141822\n",
      "min         0.000000\n",
      "25%         8.000000\n",
      "50%        25.000000\n",
      "75%        56.000000\n",
      "max       242.000000\n",
      "Name: mntgoldprods, dtype: float64\n",
      "\n",
      "Procesando la variable: mntsweetproducts\n",
      "Cuantiles redondeados para la variable de tipo Int64 'mntsweetproducts': 0, 191\n",
      "Resultados después de la winsorización para la variable 'mntsweetproducts':\n",
      "count    1481.000000\n",
      "mean       26.929102\n",
      "std        40.725992\n",
      "min         0.000000\n",
      "25%         1.000000\n",
      "50%         8.000000\n",
      "75%        34.000000\n",
      "max       191.000000\n",
      "Name: mntsweetproducts, dtype: float64\n",
      "\n",
      "Procesando la variable: mntfishproducts\n",
      "Cuantiles redondeados para la variable de tipo Int64 'mntfishproducts': 0, 240\n",
      "Resultados después de la winsorización para la variable 'mntfishproducts':\n",
      "count    1481.000000\n",
      "mean       37.183660\n",
      "std        54.096548\n",
      "min         0.000000\n",
      "25%         3.000000\n",
      "50%        12.000000\n",
      "75%        49.000000\n",
      "max       240.000000\n",
      "Name: mntfishproducts, dtype: float64\n",
      "\n",
      "Procesando la variable: mntmeatproducts\n",
      "Cuantiles redondeados para la variable de tipo Int64 'mntmeatproducts': 2, 965\n",
      "Resultados después de la winsorización para la variable 'mntmeatproducts':\n",
      "count    1481.000000\n",
      "mean      167.819716\n",
      "std       224.498478\n",
      "min         2.000000\n",
      "25%        15.000000\n",
      "50%        64.000000\n",
      "75%       231.000000\n",
      "max       965.000000\n",
      "Name: mntmeatproducts, dtype: float64\n",
      "\n",
      "Procesando la variable: mntfruits\n",
      "Cuantiles redondeados para la variable de tipo Int64 'mntfruits': 0, 180\n",
      "Resultados después de la winsorización para la variable 'mntfruits':\n",
      "count    1481.000000\n",
      "mean       26.252532\n",
      "std        39.681498\n",
      "min         0.000000\n",
      "25%         1.000000\n",
      "50%         8.000000\n",
      "75%        33.000000\n",
      "max       180.000000\n",
      "Name: mntfruits, dtype: float64\n",
      "\n",
      "Procesando la variable: mntwines\n",
      "Cuantiles redondeados para la variable de tipo Int64 'mntwines': 1, 1388\n",
      "Resultados después de la winsorización para la variable 'mntwines':\n",
      "count    1481.000000\n",
      "mean      298.419311\n",
      "std       338.462574\n",
      "min         1.000000\n",
      "25%        22.000000\n",
      "50%       163.000000\n",
      "75%       493.000000\n",
      "max      1388.000000\n",
      "Name: mntwines, dtype: float64\n",
      "\n",
      "Procesando la variable: numwebvisitsmonth\n",
      "Cuantiles redondeados para la variable de tipo Int64 'numwebvisitsmonth': 1, 12\n",
      "Resultados después de la winsorización para la variable 'numwebvisitsmonth':\n",
      "count    1481.000000\n",
      "mean        5.302498\n",
      "std         2.342971\n",
      "min         1.000000\n",
      "25%         3.000000\n",
      "50%         6.000000\n",
      "75%         7.000000\n",
      "max        12.000000\n",
      "Name: numwebvisitsmonth, dtype: float64\n",
      "\n",
      "Procesando la variable: numstorepurchases\n",
      "Cuantiles redondeados para la variable de tipo Int64 'numstorepurchases': 1, 13\n",
      "Resultados después de la winsorización para la variable 'numstorepurchases':\n",
      "count    1481.000000\n",
      "mean        5.711681\n",
      "std         3.241193\n",
      "min         1.000000\n",
      "25%         3.000000\n",
      "50%         5.000000\n",
      "75%         8.000000\n",
      "max        13.000000\n",
      "Name: numstorepurchases, dtype: float64\n",
      "\n",
      "Procesando la variable: numcatalogpurchases\n",
      "Cuantiles redondeados para la variable de tipo Int64 'numcatalogpurchases': 0, 11\n",
      "Resultados después de la winsorización para la variable 'numcatalogpurchases':\n",
      "count    1481.000000\n",
      "mean        2.641458\n",
      "std         2.835420\n",
      "min         0.000000\n",
      "25%         0.000000\n",
      "50%         2.000000\n",
      "75%         4.000000\n",
      "max        11.000000\n",
      "Name: numcatalogpurchases, dtype: float64\n",
      "\n",
      "Procesando la variable: numdealspurchases\n",
      "Cuantiles redondeados para la variable de tipo Int64 'numdealspurchases': 0, 13\n",
      "Resultados después de la winsorización para la variable 'numdealspurchases':\n",
      "count    1481.000000\n",
      "mean        2.305874\n",
      "std         1.913049\n",
      "min         0.000000\n",
      "25%         1.000000\n",
      "50%         2.000000\n",
      "75%         3.000000\n",
      "max        13.000000\n",
      "Name: numdealspurchases, dtype: float64\n",
      "\n"
     ]
    }
   ],
   "source": [
    "# Winsorización automática para cada variable\n",
    "for variable in var_winsorizar:\n",
    "    print(f\"Procesando la variable: {variable}\")\n",
    "    \n",
    "    # Calcula los cuantiles para cada variable\n",
    "    lower_quantile = num[variable].quantile(p_min)\n",
    "    upper_quantile = num[variable].quantile(p_max)\n",
    "    \n",
    "    # Si la columna es de tipo Int64, redondea los cuantiles a enteros\n",
    "    if pd.api.types.is_integer_dtype(num[variable]):\n",
    "        lower_quantile = int(round(lower_quantile))\n",
    "        upper_quantile = int(round(upper_quantile))\n",
    "        print(f\"Cuantiles redondeados para la variable de tipo Int64 '{variable}': {lower_quantile}, {upper_quantile}\")\n",
    "    else:\n",
    "        print(f\"Cuantiles para la variable de tipo Float '{variable}': {lower_quantile}, {upper_quantile}\")\n",
    "    \n",
    "    # Aplica la winsorización utilizando los cuantiles como límites\n",
    "    num[variable] = num[variable].clip(lower=lower_quantile, upper=upper_quantile)\n",
    "\n",
    "    # Imprimir los resultados después de la winsorización\n",
    "    print(f\"Resultados después de la winsorización para la variable '{variable}':\")\n",
    "    print(num[variable].describe())\n",
    "    print()"
   ]
  },
  {
   "cell_type": "markdown",
   "id": "0f6b1e4a",
   "metadata": {},
   "source": [
    "## GUARDADO DATASETS TRAS CALIDAD DE DATOS"
   ]
  },
  {
   "cell_type": "code",
   "execution_count": 62,
   "id": "b9d37c34",
   "metadata": {},
   "outputs": [],
   "source": [
    "# Uno los dataset:\n",
    "df_calidad = pd.concat((cat,num),axis=1)"
   ]
  },
  {
   "cell_type": "markdown",
   "id": "abb12eef",
   "metadata": {},
   "source": [
    "### Definir los nombres de los archivos"
   ]
  },
  {
   "cell_type": "code",
   "execution_count": 58,
   "id": "f83c6f26",
   "metadata": {},
   "outputs": [],
   "source": [
    "ruta_trabajo = ruta_proyecto + '/02_Datos/03_Trabajo/' + 'trabajo_resultado_calidad.pickle'\n",
    "ruta_cat = ruta_proyecto + '/02_Datos/03_Trabajo/' + 'cat_resultado_calidad.pickle'\n",
    "ruta_num = ruta_proyecto + '/02_Datos/03_Trabajo/' + 'num_resultado_calidad.pickle'"
   ]
  },
  {
   "cell_type": "markdown",
   "id": "1699f284",
   "metadata": {},
   "source": [
    "### Guardar los archivos"
   ]
  },
  {
   "cell_type": "code",
   "execution_count": 59,
   "id": "6731887a",
   "metadata": {},
   "outputs": [],
   "source": [
    "df_calidad.to_pickle(ruta_trabajo)\n",
    "cat.to_pickle(ruta_cat)\n",
    "num.to_pickle(ruta_num)"
   ]
  }
 ],
 "metadata": {
  "kernelspec": {
   "display_name": "Python 3 (ipykernel)",
   "language": "python",
   "name": "python3"
  },
  "language_info": {
   "codemirror_mode": {
    "name": "ipython",
    "version": 3
   },
   "file_extension": ".py",
   "mimetype": "text/x-python",
   "name": "python",
   "nbconvert_exporter": "python",
   "pygments_lexer": "ipython3",
   "version": "3.11.7"
  },
  "toc": {
   "base_numbering": 1,
   "nav_menu": {},
   "number_sections": true,
   "sideBar": true,
   "skip_h1_title": false,
   "title_cell": "Table of Contents",
   "title_sidebar": "Contents",
   "toc_cell": false,
   "toc_position": {
    "height": "calc(100% - 180px)",
    "left": "10px",
    "top": "150px",
    "width": "406.5px"
   },
   "toc_section_display": true,
   "toc_window_display": true
  },
  "varInspector": {
   "cols": {
    "lenName": 16,
    "lenType": 16,
    "lenVar": 40
   },
   "kernels_config": {
    "python": {
     "delete_cmd_postfix": "",
     "delete_cmd_prefix": "del ",
     "library": "var_list.py",
     "varRefreshCmd": "print(var_dic_list())"
    },
    "r": {
     "delete_cmd_postfix": ") ",
     "delete_cmd_prefix": "rm(",
     "library": "var_list.r",
     "varRefreshCmd": "cat(var_dic_list()) "
    }
   },
   "position": {
    "height": "546.85px",
    "left": "680.75px",
    "right": "20px",
    "top": "118px",
    "width": "350px"
   },
   "types_to_exclude": [
    "module",
    "function",
    "builtin_function_or_method",
    "instance",
    "_Feature"
   ],
   "window_display": false
  }
 },
 "nbformat": 4,
 "nbformat_minor": 5
}
