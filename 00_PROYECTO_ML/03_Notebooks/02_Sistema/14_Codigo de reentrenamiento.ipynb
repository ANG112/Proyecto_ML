{
 "cells": [
  {
   "cell_type": "markdown",
   "id": "c7f65e25",
   "metadata": {},
   "source": [
    "# CODIGO DE RE-ENTRENAMIENTO"
   ]
  },
  {
   "cell_type": "markdown",
   "id": "73a0f588",
   "metadata": {},
   "source": [
    "*NOTA: Para poder usar este código de entrenamiento hay que lanzarlo desde exactamente el mismo entorno en el que fue creado.*\n",
    "\n",
    "*Se puede instalar ese entorno en la nueva máquina usando el environment.yml que creamos en el set up del proyecto*\n",
    "\n",
    "*Copiar el proyecto1.yml al directorio y en el terminal o anaconda prompt ejecutar:*\n",
    "\n",
    "conda env create --file proyecto1.yml --name proyecto1"
   ]
  },
  {
   "cell_type": "code",
   "execution_count": 1,
   "id": "ffe7be80",
   "metadata": {},
   "outputs": [],
   "source": [
    "### ----- IMPORTACIÓN DE LIBRERÍAS ----- ###\n",
    "import numpy as np\n",
    "import pandas as pd\n",
    "import cloudpickle\n",
    "\n",
    "from janitor import clean_names\n",
    "\n",
    "from sklearn.preprocessing import MinMaxScaler\n",
    "\n",
    "from xgboost import XGBClassifier\n",
    "from lightgbm import LGBMClassifier\n",
    "\n",
    "from sklearn.pipeline import Pipeline\n",
    "from sklearn.preprocessing import FunctionTransformer\n",
    "from sklearn.compose import make_column_transformer\n",
    "from sklearn.pipeline import make_pipeline\n",
    "\n",
    "### ----- CARGA DE DATOS ----- ###\n",
    "ruta_proyecto = 'C:/Users/Alfonso/OneDrive/Documentos_/Formación/Bootcamp_DS/Repo_DS/Proyect_Break_ML/Proyecto_ML/00_PROYECTO_ML'\n",
    "\n",
    "nombre_fichero_datos = 'marketing_campaign.xlsx'\n",
    "\n",
    "ruta_completa = ruta_proyecto + '/02_Datos/01_Originales/' + nombre_fichero_datos\n",
    "\n",
    "df = pd.read_excel(ruta_completa,index_col=0)\n",
    "\n",
    "\n",
    "### ----- LIMPIEZA DE DATOS ----- ###\n",
    "df = (clean_names(df) \\\n",
    "             .drop_duplicates())\n",
    "\n",
    "### ----- CREACIÓN DE NUEVAS VARIABLES ----- ###\n",
    "# Miembros totales en casa\n",
    "dicc_status = {\n",
    "    'Together': 2,  # Generalmente representa a dos personas viviendo juntas\n",
    "    'Divorced': 1,  # Generalmente representa a una persona que está divorciada\n",
    "    'Married': 2,   # Generalmente representa a dos personas casadas\n",
    "    'Single': 1,    # Generalmente representa a una persona soltera\n",
    "    'Widow':1,      # Generalmente representa a una persona viuda\n",
    "    'OTROS': 1      # 1 por defecto    \n",
    "}\n",
    "\n",
    "df['status_members'] = df['marital_status'].map(dicc_status)\n",
    "df['household_members'] = df['status_members']+df['kidhome']+df['teenhome']\n",
    "\n",
    "# Nº ofertas aceptadas\n",
    "df['total_cmp'] = df.filter(like='accepted').apply(pd.to_numeric, errors='coerce').sum(axis=1)\n",
    "\n",
    "# Elimino columnas intermedias \n",
    "df = df.drop(columns=['status_members'])\n",
    "\n",
    "# ----- INSTANCIO VARIABLES FINALES ----- #                  \n",
    "variables_finales = ['household_members',\n",
    "                     'income',\n",
    "                     'mntgoldprods',\n",
    "                     'mntmeatproducts',\n",
    "                     'mntwines',\n",
    "                     'numcatalogpurchases',\n",
    "                     'numstorepurchases',\n",
    "                     'numwebvisitsmonth',\n",
    "                     'total_cmp' \n",
    "                  ]\n",
    "\n",
    "### ----- INSTANCIO VARIABLE TARGET ----- ###\n",
    "target = 'response'\n",
    "\n",
    "### ----- DIVISIÓN X,Y ----- ### \n",
    "x = df[variables_finales].copy()\n",
    "\n",
    "y = df[target].copy()\n",
    "\n",
    "\n",
    "### ----- CARGA DEL PIPE ----- ### \n",
    "nombre_pipe_entrenamiento = 'pipe_entrenamiento.pickle'\n",
    "\n",
    "ruta_pipe_entrenamiento = ruta_proyecto + '/04_Modelos/' + nombre_pipe_entrenamiento\n",
    "\n",
    "with open(ruta_pipe_entrenamiento, mode='rb') as file:\n",
    "   pipe_entrenamiento = cloudpickle.load(file)\n",
    "\n",
    "### ----- ENTRENAMIENTO ----- ###\n",
    "pipe_ejecucion = pipe_entrenamiento.fit(x,y)\n",
    "\n",
    "\n",
    "### ----- GUARDADO DEL MODELO FINAL ----- ###\n",
    "nombre_pipe_ejecucion = 'pipe_ejecucion.pickle'\n",
    "\n",
    "ruta_pipe_ejecucion = ruta_proyecto + '/04_Modelos/' + nombre_pipe_ejecucion\n",
    "\n",
    "with open(ruta_pipe_ejecucion, mode='wb') as file:\n",
    "   cloudpickle.dump(pipe_ejecucion, file)"
   ]
  }
 ],
 "metadata": {
  "kernelspec": {
   "display_name": "Python 3 (ipykernel)",
   "language": "python",
   "name": "python3"
  },
  "language_info": {
   "codemirror_mode": {
    "name": "ipython",
    "version": 3
   },
   "file_extension": ".py",
   "mimetype": "text/x-python",
   "name": "python",
   "nbconvert_exporter": "python",
   "pygments_lexer": "ipython3",
   "version": "3.11.7"
  },
  "toc": {
   "base_numbering": 1,
   "nav_menu": {},
   "number_sections": true,
   "sideBar": true,
   "skip_h1_title": false,
   "title_cell": "Table of Contents",
   "title_sidebar": "Contents",
   "toc_cell": false,
   "toc_position": {
    "height": "calc(100% - 180px)",
    "left": "10px",
    "top": "150px",
    "width": "193.5px"
   },
   "toc_section_display": true,
   "toc_window_display": true
  },
  "varInspector": {
   "cols": {
    "lenName": 16,
    "lenType": 16,
    "lenVar": 40
   },
   "kernels_config": {
    "python": {
     "delete_cmd_postfix": "",
     "delete_cmd_prefix": "del ",
     "library": "var_list.py",
     "varRefreshCmd": "print(var_dic_list())"
    },
    "r": {
     "delete_cmd_postfix": ") ",
     "delete_cmd_prefix": "rm(",
     "library": "var_list.r",
     "varRefreshCmd": "cat(var_dic_list()) "
    }
   },
   "position": {
    "height": "388.85px",
    "left": "1070px",
    "right": "20px",
    "top": "120px",
    "width": "350px"
   },
   "types_to_exclude": [
    "module",
    "function",
    "builtin_function_or_method",
    "instance",
    "_Feature"
   ],
   "window_display": false
  }
 },
 "nbformat": 4,
 "nbformat_minor": 5
}
